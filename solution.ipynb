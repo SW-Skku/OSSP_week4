{
  "nbformat": 4,
  "nbformat_minor": 0,
  "metadata": {
    "colab": {
      "provenance": []
    },
    "kernelspec": {
      "name": "python3",
      "display_name": "Python 3"
    },
    "language_info": {
      "name": "python"
    },
    "accelerator": "GPU",
    "gpuClass": "standard"
  },
  "cells": [
    {
      "cell_type": "code",
      "execution_count": 26,
      "metadata": {
        "colab": {
          "base_uri": "https://localhost:8080/"
        },
        "id": "g5L0q1vPv4C1",
        "outputId": "983a0f41-2454-41c7-96f0-511b024d0939"
      },
      "outputs": [
        {
          "output_type": "stream",
          "name": "stdout",
          "text": [
            "True\n"
          ]
        }
      ],
      "source": [
        "def rotateString(s, goal):\n",
        "  for x in range(len(s)):\n",
        "    tempstr = s[1:len(s)] + s[0]\n",
        "    s = tempstr\n",
        "    if s == goal:\n",
        "      print(\"True\")\n",
        "      return\n",
        "  print(\"False\")\n",
        "  pass\n",
        "\n"
      ]
    }
  ]
}